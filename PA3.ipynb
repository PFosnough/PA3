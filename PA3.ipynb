{
 "cells": [
  {
   "cell_type": "markdown",
   "id": "9c1e417c",
   "metadata": {},
   "source": [
    "## a."
   ]
  },
  {
   "cell_type": "code",
   "execution_count": 1,
   "id": "1c1051c7",
   "metadata": {},
   "outputs": [
    {
     "name": "stdout",
     "output_type": "stream",
     "text": [
      "Enter the length of Side A: 2\n",
      "Enter the length of Side B: 2\n",
      "Enter the length of Side C: 2\n",
      "The area of the triangle is approximately 1.732051 square units.\n",
      "The perimeter of the triangle is 6 liner units. \n",
      "\n",
      "Enter the length of Side A: 14\n",
      "Enter the length of Side B: 7\n",
      "Enter the length of Side C: 16\n",
      "The area of the triangle is approximately 48.922771 square units.\n",
      "The perimeter of the triangle is 37 liner units. \n",
      "\n",
      "area=calcArea()\n",
      "perimeter=calcPerimeter()\n",
      "The area of the triangle is approximately  0.433013square units\n",
      "The perimeter of the triangle is 3 linear units.\n"
     ]
    }
   ],
   "source": [
    "from math import sqrt\n",
    "\n",
    "def calcArea(SideA=1, SideB=1, SideC=1):\n",
    "    s=(SideA+SideB+SideC)/2\n",
    "    Area=sqrt(s*(s-SideA)*(s-SideB)*(s-SideC))\n",
    "    return Area\n",
    "\n",
    "def calcPerimeter(SideA=1, SideB=1, SideC=1):\n",
    "    Perimeter=SideA+SideB+SideC\n",
    "    return Perimeter\n",
    "\n",
    "SideA=int(input(\"Enter the length of Side A: \"))\n",
    "SideB=int(input(\"Enter the length of Side B: \"))\n",
    "SideC=int(input(\"Enter the length of Side C: \"))\n",
    "print(\"The area of the triangle is approximately\", f'{calcArea(SideA,SideB,SideC):.6f} square units.')\n",
    "print(\"The perimeter of the triangle is\", calcPerimeter(SideA,SideB,SideC),\"liner units. \\n\")\n",
    "\n",
    "SideA=int(input(\"Enter the length of Side A: \"))\n",
    "SideB=int(input(\"Enter the length of Side B: \"))\n",
    "SideC=int(input(\"Enter the length of Side C: \"))\n",
    "print(\"The area of the triangle is approximately\", f'{calcArea(SideA,SideB,SideC):.6f} square units.')\n",
    "print(\"The perimeter of the triangle is\", calcPerimeter(SideA,SideB,SideC),\"liner units. \\n\")\n",
    "\n",
    "print('area=calcArea()')\n",
    "print('perimeter=calcPerimeter()')\n",
    "print('The area of the triangle is approximately', f' {calcArea():.6f}square units')\n",
    "print('The perimeter of the triangle is', calcPerimeter(),'linear units.')"
   ]
  },
  {
   "cell_type": "markdown",
   "id": "5039f466",
   "metadata": {},
   "source": [
    "## b."
   ]
  },
  {
   "cell_type": "code",
   "execution_count": 3,
   "id": "912187f7",
   "metadata": {},
   "outputs": [
    {
     "name": "stdout",
     "output_type": "stream",
     "text": [
      "Enter a random guess: 500\n",
      "Too low! Guess again.\n",
      "Enter a random guess: 750\n",
      "Too high! Guess again.\n",
      "Enter a random guess: 650\n",
      "Too high! Guess again.\n",
      "Enter a random guess: 600\n",
      "Too high! Guess again.\n",
      "Enter a random guess: 550\n",
      "Too low! Guess again.\n",
      "Enter a random guess: 575\n",
      "Too low! Guess again.\n",
      "Enter a random guess: 590\n",
      "Too high! Guess again.\n",
      "Enter a random guess: 580\n",
      "Too low! Guess again.\n",
      "Enter a random guess: 584\n",
      "Too high! Guess again.\n",
      "Enter a random guess: 583\n",
      "Too high! Guess again.\n",
      "Enter a random guess: 581\n",
      "Correct!\n"
     ]
    }
   ],
   "source": [
    "from random import randint\n",
    "\n",
    "Random_num=randint(1,1000)\n",
    "evaluation=''\n",
    "\n",
    "def evaluateGuess(User_num,Random_num):\n",
    "    if User_num>Random_num:\n",
    "        return('Too high! Guess again.')\n",
    "    elif User_num<Random_num:\n",
    "        return('Too low! Guess again.')\n",
    "    elif User_num==Random_num:\n",
    "        return('Correct!')\n",
    "    \n",
    "while evaluation != 'Correct!':\n",
    "    User_num=int(input('Enter a random guess: '))\n",
    "    evaluation=evaluateGuess(User_num,Random_num)\n",
    "    print(evaluation)"
   ]
  },
  {
   "cell_type": "markdown",
   "id": "2c517a93",
   "metadata": {},
   "source": [
    "## c."
   ]
  },
  {
   "cell_type": "code",
   "execution_count": 5,
   "id": "4b33e767",
   "metadata": {},
   "outputs": [
    {
     "name": "stdout",
     "output_type": "stream",
     "text": [
      "The mean temperature for the past 7 days is 90.29 degrees F.\n",
      "The mean temperature for the past 5 days is 87.20 degrees F.\n",
      "The mean temperature for the past 2 days is 96.00 degrees F.\n"
     ]
    }
   ],
   "source": [
    "def meanTemp(*args):\n",
    "    total=0\n",
    "    for x in args:\n",
    "        total += x\n",
    "\n",
    "    days=len(args)\n",
    "    mean=total/days\n",
    "    \n",
    "    print(f'The mean temperature for the past {days} days is', f'{mean:.2f} degrees F.')\n",
    "    \n",
    "meanTemp(91,92,87,90,88,94,90)\n",
    "meanTemp(85,87,90,88,86)\n",
    "meanTemp(89,103)"
   ]
  },
  {
   "cell_type": "code",
   "execution_count": null,
   "id": "bd27abf5",
   "metadata": {},
   "outputs": [],
   "source": []
  }
 ],
 "metadata": {
  "kernelspec": {
   "display_name": "Python 3",
   "language": "python",
   "name": "python3"
  },
  "language_info": {
   "codemirror_mode": {
    "name": "ipython",
    "version": 3
   },
   "file_extension": ".py",
   "mimetype": "text/x-python",
   "name": "python",
   "nbconvert_exporter": "python",
   "pygments_lexer": "ipython3",
   "version": "3.8.8"
  }
 },
 "nbformat": 4,
 "nbformat_minor": 5
}
